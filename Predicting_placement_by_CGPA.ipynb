{
  "nbformat": 4,
  "nbformat_minor": 0,
  "metadata": {
    "colab": {
      "provenance": [],
      "authorship_tag": "ABX9TyOfVqJ5iGXjX/baTuP4kqcd"
    },
    "kernelspec": {
      "name": "python3",
      "display_name": "Python 3"
    },
    "language_info": {
      "name": "python"
    }
  },
  "cells": [
    {
      "cell_type": "code",
      "source": [
        "import pandas as pd\n",
        "from sklearn.linear_model import LinearRegression\n",
        "from sklearn.model_selection import train_test_split\n",
        "import numpy as np\n",
        "\n",
        "#Read dataset from CSV file\n",
        "df = pd.read_csv('placement.csv')\n",
        "\n",
        "#Prepare data for training\n",
        "X = df[['cgpa']] # Feature\n",
        "y = df['placement'] # Target\n",
        "\n",
        "#Split the dataset into training and testing sets\n",
        "X_trian, X_test, y_train, y_test = train_test_split(X, y, test_size=0.2, random_state=42)\n",
        "\n",
        "#Create and train the Linear Regression model\n",
        "model = LinearRegression()\n",
        "model.fit(X_trian, y_train)\n",
        "\n",
        "#Take user input for prediction\n",
        "user_cgpa = float(input(\"Enter your cgpa\"))\n",
        "user_data = pd.DataFrame({'cgpa':[user_cgpa]}) #Convert to DataFrane with sane feature\n",
        "\n",
        "# Make a prediction\n",
        "predicted_placement = model.predict(user_data)\n",
        "\n",
        "#Print the predicted placement\n",
        "print(f\"Predicted_placement: {predicted_placement[0]:,.0f}\")"
      ],
      "metadata": {
        "colab": {
          "base_uri": "https://localhost:8080/"
        },
        "id": "zoHYJWaXuVTv",
        "outputId": "020954ee-367f-4e19-f333-87b54ab6022a"
      },
      "execution_count": 26,
      "outputs": [
        {
          "output_type": "stream",
          "name": "stdout",
          "text": [
            "Enter your cgpa 8.3\n",
            "Predicted_placement: 1\n"
          ]
        }
      ]
    }
  ]
}