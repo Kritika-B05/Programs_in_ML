{
  "nbformat": 4,
  "nbformat_minor": 0,
  "metadata": {
    "colab": {
      "provenance": [],
      "authorship_tag": "ABX9TyOVxSKAIZtfE6CKgcxkBBwc"
    },
    "kernelspec": {
      "name": "python3",
      "display_name": "Python 3"
    },
    "language_info": {
      "name": "python"
    }
  },
  "cells": [
    {
      "cell_type": "code",
      "source": [
        "import pandas as pd\n",
        "from sklearn.linear_model import LinearRegression\n",
        "from sklearn.model_selection import train_test_split\n",
        "\n",
        "#Read dataset from CSV file\n",
        "df = pd.read_csv('placement.csv')\n",
        "\n",
        "#Prepare data for training\n",
        "X = df[['cgpa']] # Feature\n",
        "y = df['placement'] # Target\n",
        "\n",
        "#Split the dataset into training and testing sets\n",
        "X_trian, X_test, y_train, y_test = train_test_split(X, y, test_size=0.2, random_state=42)\n",
        "\n",
        "#Create and train the Linear Regression model\n",
        "model = LinearRegression()\n",
        "model.fit(X_trian, y_train)\n",
        "\n",
        "#Take user input for prediction\n",
        "user_cgpa = float(input(\"Enter your cgpa\"))\n",
        "user_data = pd.DataFrame({'cgpa':[user_cgpa]}) #Convert to DataFrane with sane feature\n",
        "\n",
        "# Make a prediction\n",
        "predicted_placement = model.predict(user_data)\n",
        "\n",
        "#Print the predicted placement\n",
        "print(f\"Predicted_placement: {predicted_placement[0]:,.0f}\")"
      ],
      "metadata": {
        "colab": {
          "base_uri": "https://localhost:8080/"
        },
        "id": "zoHYJWaXuVTv",
        "outputId": "29813833-dff9-4b70-ba24-c7faf048ba79"
      },
      "execution_count": null,
      "outputs": [
        {
          "output_type": "stream",
          "name": "stdout",
          "text": [
            "Enter your cgpa 5.9\n",
            "Predicted_placement: 0\n"
          ]
        }
      ]
    },
    {
      "cell_type": "code",
      "source": [
        "import pandas as pd\n",
        "from sklearn.linear_model import LinearRegression\n",
        "from sklearn.model_selection import train_test_split\n",
        "\n",
        "# Sample data (replace with your actual data)\n",
        "data = {'cgpa': [6.8, 5.9, 7.4, 5.8, 8.3, 7.1]}\n",
        "Labels = [1, 0, 1, 0, 1, 1]\n",
        "\n",
        "# Create a DataFrame from the sample data\n",
        "df = pd.DataFrame(data)\n",
        "df['placement'] = Labels\n",
        "\n",
        "# Prepare data for training\n",
        "X = df[['cgpa']]  # Feature\n",
        "y = df['placement']  # Target\n",
        "\n",
        "# Split the dataset into training and testing sets\n",
        "X_train, X_test, y_train, y_test = train_test_split(X, y, test_size=0.2, random_state=42)\n",
        "\n",
        "# Create and train the Linear Regression model\n",
        "model = LinearRegression()\n",
        "model.fit(X_train, y_train)\n",
        "\n",
        "# Take user input for prediction\n",
        "user_cgpa = float(input(\"Enter your cgpa: \"))\n",
        "user_data = pd.DataFrame({'cgpa': [user_cgpa]})  # Convert to DataFrame with the same feature\n",
        "\n",
        "# Make a prediction\n",
        "predicted_placement = model.predict(user_data)\n",
        "\n",
        "# Print the predicted placement (interpreting the regression output)\n",
        "if predicted_placement[0] >= 0.5:\n",
        "    print(f\"Predicted placement: 1 (Likely to be placed)\")\n",
        "else:\n",
        "    print(f\"Predicted placement: 0 (Less likely to be placed)\")"
      ],
      "metadata": {
        "colab": {
          "base_uri": "https://localhost:8080/"
        },
        "id": "28sswjlh8sNm",
        "outputId": "4371d540-37ba-4e79-9f83-d093646537ee"
      },
      "execution_count": null,
      "outputs": [
        {
          "output_type": "stream",
          "name": "stdout",
          "text": [
            "Enter your cgpa: 8.3\n",
            "Predicted placement: 1 (Likely to be placed)\n"
          ]
        }
      ]
    }
  ]
}