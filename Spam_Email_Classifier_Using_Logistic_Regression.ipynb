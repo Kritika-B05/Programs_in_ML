{
  "nbformat": 4,
  "nbformat_minor": 0,
  "metadata": {
    "colab": {
      "provenance": [],
      "authorship_tag": "ABX9TyOw1UYRUF3+vqwa0suaS7aH",
      "include_colab_link": true
    },
    "kernelspec": {
      "name": "python3",
      "display_name": "Python 3"
    },
    "language_info": {
      "name": "python"
    }
  },
  "cells": [
    {
      "cell_type": "markdown",
      "metadata": {
        "id": "view-in-github",
        "colab_type": "text"
      },
      "source": [
        "<a href=\"https://colab.research.google.com/github/Kritika-B05/Programs_in_ML/blob/main/Spam_Email_Classifier_Using_Logistic_Regression.ipynb\" target=\"_parent\"><img src=\"https://colab.research.google.com/assets/colab-badge.svg\" alt=\"Open In Colab\"/></a>"
      ]
    },
    {
      "cell_type": "code",
      "execution_count": 3,
      "metadata": {
        "colab": {
          "base_uri": "https://localhost:8080/"
        },
        "id": "CZKk_Xxza6q0",
        "outputId": "9120e22e-31bc-4f63-c182-f294d4ef4471"
      },
      "outputs": [
        {
          "output_type": "stream",
          "name": "stdout",
          "text": [
            "Enter an email to classify: Important meeting tomorrow\n",
            "The email is classified as: not spam\n"
          ]
        }
      ],
      "source": [
        "import pandas as pd\n",
        "from sklearn.linear_model import LogisticRegression\n",
        "from sklearn.feature_extraction.text import CountVectorizer\n",
        "# Sample dataset (email text and labels)\n",
        "data = {\n",
        " 'Email': [\n",
        " 'Win a million dollars now!', # Spam\n",
        " 'Important meeting tomorrow', # Not Spam\n",
        " 'Get cheap loans and credit', # Spam\n",
        " 'Your invoice is attached', # Not Spam\n",
        " 'Special promotion just for you', # Spam\n",
        " 'Schedule your appointment', # Not Spam\n",
        " ],\n",
        " 'Label': [1, 0, 1, 0, 1, 0] # 1 for Spam, 0 for Not Spam\n",
        "}\n",
        "# Create DataFrame\n",
        "df = pd.DataFrame(data)\n",
        "# Features and target variable\n",
        "X = df['Email'] # Feature: Email text\n",
        "y = df['Label'] # Target: Spam (1) or Not Spam (0)\n",
        "# Convert email text to numerical features using CountVectorizer\n",
        "vectorizer = CountVectorizer()\n",
        "X_vectorized = vectorizer.fit_transform(X)\n",
        "# Create and train the model\n",
        "model = LogisticRegression()\n",
        "model.fit(X_vectorized, y)\n",
        "# Take user input for prediction\n",
        "user_email = input(\"Enter an email to classify: \")\n",
        "user_email_vectorized = vectorizer.transform([user_email])\n",
        "prediction = model.predict(user_email_vectorized)[0]\n",
        "result =\"spam\"if prediction == 1 else \"not spam\"\n",
        "print(f'The email is classified as: {result}')"
      ]
    }
  ]
}