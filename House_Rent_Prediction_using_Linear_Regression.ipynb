{
  "nbformat": 4,
  "nbformat_minor": 0,
  "metadata": {
    "colab": {
      "provenance": [],
      "authorship_tag": "ABX9TyNo8pdQm0BhUsKG2BCCgSR1"
    },
    "kernelspec": {
      "name": "python3",
      "display_name": "Python 3"
    },
    "language_info": {
      "name": "python"
    }
  },
  "cells": [
    {
      "cell_type": "code",
      "execution_count": 1,
      "metadata": {
        "colab": {
          "base_uri": "https://localhost:8080/"
        },
        "id": "oeUFyLn2nmjr",
        "outputId": "031e43f8-1228-4080-aa65-0a6fb6b5544c"
      },
      "outputs": [
        {
          "output_type": "stream",
          "name": "stdout",
          "text": [
            "Enter the area of the house in square feet: 1000\n",
            "Enter the number of rooms in the house: 2\n",
            "Enter the age of the house in years: 10\n",
            "Predicted rent for a house with 1000.0 sqft, 2 rooms, and age 10.0 years is: $1200.00\n",
            "Mean Squared Error on the test set: 0.00\n"
          ]
        }
      ],
      "source": [
        "import numpy as np\n",
        "from sklearn.linear_model import LinearRegression\n",
        "from sklearn.model_selection import train_test_split\n",
        "from sklearn.metrics import mean_squared_error\n",
        "\n",
        "# Simple dataset (features: Area (sqft), Number of Rooms, Age (years); target: Rent ($))\n",
        "# Example data\n",
        "X = np.array([\n",
        "    [1000, 2, 10],  # Area: 1000 sqft, Rooms: 2, Age: 10 years\n",
        "    [1500, 3, 5],   # Area: 1500 sqft, Rooms: 3, Age: 5 years\n",
        "    [2000, 4, 1],   # Area: 2000 sqft, Rooms: 4, Age: 1 year\n",
        "    [2500, 5, 15],  # Area: 2500 sqft, Rooms: 5, Age: 15 years\n",
        "    [3000, 6, 8]    # Area: 3000 sqft, Rooms: 6, Age: 8 years\n",
        "])\n",
        "y = np.array([1200, 1800, 2400, 3000, 3600])  # Corresponding rents\n",
        "\n",
        "# Split the dataset into training and testing sets\n",
        "X_train, X_test, y_train, y_test = train_test_split(X, y, test_size=0.4, random_state=42)\n",
        "\n",
        "# Create and train the model\n",
        "model = LinearRegression()\n",
        "model.fit(X_train, y_train)\n",
        "\n",
        "# Get user input\n",
        "area = float(input(\"Enter the area of the house in square feet: \"))\n",
        "rooms = int(input(\"Enter the number of rooms in the house: \"))\n",
        "age = float(input(\"Enter the age of the house in years: \"))\n",
        "\n",
        "# Make a prediction\n",
        "predicted_rent = model.predict([[area, rooms, age]])\n",
        "print(f\"Predicted rent for a house with {area} sqft, {rooms} rooms, and age {age} years is: ${predicted_rent[0]:.2f}\")\n",
        "\n",
        "# Evaluate the model on the test set\n",
        "y_pred = model.predict(X_test)\n",
        "mse = mean_squared_error(y_test, y_pred)\n",
        "print(f\"Mean Squared Error on the test set: {mse:.2f}\")"
      ]
    }
  ]
}