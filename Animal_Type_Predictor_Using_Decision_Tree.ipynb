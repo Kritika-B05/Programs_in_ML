{
  "nbformat": 4,
  "nbformat_minor": 0,
  "metadata": {
    "colab": {
      "provenance": [],
      "authorship_tag": "ABX9TyPEAs/ltYoNW7OV7IE/729J"
    },
    "kernelspec": {
      "name": "python3",
      "display_name": "Python 3"
    },
    "language_info": {
      "name": "python"
    }
  },
  "cells": [
    {
      "cell_type": "code",
      "execution_count": 5,
      "metadata": {
        "colab": {
          "base_uri": "https://localhost:8080/"
        },
        "id": "dlDExj5Ec-RY",
        "outputId": "c658bb31-481d-4a03-ab34-f3850a79a110"
      },
      "outputs": [
        {
          "output_type": "stream",
          "name": "stdout",
          "text": [
            "Enter the weight of the animal in grams: 3000\n",
            "Enter the fur length (0=Short, 1=Long): 1\n",
            "Enter the ears shape (0=Pointed, 1=Round): 0\n",
            "The predicted type of animal is: Cat\n"
          ]
        }
      ],
      "source": [
        "import numpy as np\n",
        "from sklearn.tree import DecisionTreeClassifier\n",
        "from sklearn.model_selection import train_test_split\n",
        "\n",
        "# Sample dataset (features: Weight (grams), Fur Length (0=Short, 1=Long), Ears Shape (0=Pointed, 1=Round); target: Animal Type)\n",
        "X = np.array([\n",
        "    [3000, 1, 0],  # Cat\n",
        "    [4000, 1, 0],  # Cat\n",
        "    [5000, 0, 1],  # Dog\n",
        "    [6000, 0, 1],  # Dog\n",
        "    [3500, 1, 1],  # Cat\n",
        "    [7000, 0, 1],  # Dog\n",
        "    [3200, 1, 0],  # Cat\n",
        "    [7500, 0, 1]   # Dog\n",
        "])\n",
        "y = np.array(['Cat', 'Cat', 'Dog', 'Dog', 'Cat', 'Dog', 'Cat', 'Dog'])  # Corresponding animal types\n",
        "\n",
        "# Split the dataset into training and testing sets\n",
        "X_train, X_test, y_train, y_test = train_test_split(X, y, test_size=0.25, random_state=42)\n",
        "\n",
        "# Create and train the model\n",
        "model = DecisionTreeClassifier()\n",
        "model.fit(X_train, y_train)\n",
        "\n",
        "# Get user input\n",
        "weight = float(input(\"Enter the weight of the animal in grams: \"))\n",
        "fur_length = int(input(\"Enter the fur length (0=Short, 1=Long): \"))\n",
        "ears_shape = int(input(\"Enter the ears shape (0=Pointed, 1=Round): \"))\n",
        "\n",
        "# Make a prediction\n",
        "predicted_animal = model.predict([[weight, fur_length, ears_shape]])\n",
        "print(f\"The predicted type of animal is: {predicted_animal[0]}\")"
      ]
    }
  ]
}