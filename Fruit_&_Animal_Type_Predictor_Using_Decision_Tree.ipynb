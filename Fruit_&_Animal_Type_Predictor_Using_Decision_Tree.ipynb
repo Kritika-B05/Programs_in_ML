{
  "nbformat": 4,
  "nbformat_minor": 0,
  "metadata": {
    "colab": {
      "provenance": [],
      "authorship_tag": "ABX9TyP9HjZlAqpDYMdjDi76xE6E"
    },
    "kernelspec": {
      "name": "python3",
      "display_name": "Python 3"
    },
    "language_info": {
      "name": "python"
    }
  },
  "cells": [
    {
      "cell_type": "code",
      "execution_count": null,
      "metadata": {
        "colab": {
          "base_uri": "https://localhost:8080/"
        },
        "id": "dlDExj5Ec-RY",
        "outputId": "cfe61c8e-bfd7-4e53-ef75-b56fa4bb3887"
      },
      "outputs": [
        {
          "output_type": "stream",
          "name": "stdout",
          "text": [
            "Enter the weight of the animal in grams: 3000\n",
            "Enter the fur length (0=Short, 1=Long): 1\n",
            "Enter the ears shape (0=Pointed, 1=Round): 0\n",
            "The predicted type of animal is: Cat\n"
          ]
        }
      ],
      "source": [
        "import numpy as np\n",
        "from sklearn.tree import DecisionTreeClassifier\n",
        "from sklearn.model_selection import train_test_split\n",
        "\n",
        "# Sample dataset (features: Weight (grams), Fur Length (0=Short, 1=Long), Ears Shape (0=Pointed, 1=Round); target: Animal Type)\n",
        "X = np.array([\n",
        "    [3000, 1, 0],  # Cat\n",
        "    [4000, 1, 0],  # Cat\n",
        "    [5000, 0, 1],  # Dog\n",
        "    [6000, 0, 1],  # Dog\n",
        "    [3500, 1, 1],  # Cat\n",
        "    [7000, 0, 1],  # Dog\n",
        "    [3200, 1, 0],  # Cat\n",
        "    [7500, 0, 1]   # Dog\n",
        "])\n",
        "y = np.array(['Cat', 'Cat', 'Dog', 'Dog', 'Cat', 'Dog', 'Cat', 'Dog'])  # Corresponding animal types\n",
        "\n",
        "# Split the dataset into training and testing sets\n",
        "X_train, X_test, y_train, y_test = train_test_split(X, y, test_size=0.25, random_state=42)\n",
        "\n",
        "# Create and train the model\n",
        "model = DecisionTreeClassifier()\n",
        "model.fit(X_train, y_train)\n",
        "\n",
        "# Get user input\n",
        "weight = float(input(\"Enter the weight of the animal in grams: \"))\n",
        "fur_length = int(input(\"Enter the fur length (0=Short, 1=Long): \"))\n",
        "ears_shape = int(input(\"Enter the ears shape (0=Pointed, 1=Round): \"))\n",
        "\n",
        "# Make a prediction\n",
        "predicted_animal = model.predict([[weight, fur_length, ears_shape]])\n",
        "print(f\"The predicted type of animal is: {predicted_animal[0]}\")"
      ]
    },
    {
      "cell_type": "code",
      "source": [
        "import numpy as np\n",
        "from sklearn.tree import DecisionTreeClassifier\n",
        "from sklearn.model_selection import train_test_split\n",
        "\n",
        "# Sample dataset (features: Weight (grams), Color (0=Green, 1=Red), Texture (0=Smooth, 1=Rough); target: Fruit Type)\n",
        "X = np.array([\n",
        "    [150, 0, 0],  # Green Apple\n",
        "    [160, 0, 0],  # Green Apple\n",
        "    [180, 1, 1],  # Red Cherry\n",
        "    [200, 1, 1],  # Red Cherry\n",
        "    [120, 1, 0],  # Red Apple\n",
        "    [140, 0, 1],  # Green Apple\n",
        "    [220, 1, 1],  # Red Cherry\n",
        "    [130, 0, 0]   # Green Apple\n",
        "])\n",
        "y = np.array(['Apple', 'Apple', 'Cherry', 'Cherry', 'Apple', 'Apple', 'Cherry', 'Apple'])  # Corresponding fruit types\n",
        "\n",
        "# Split the dataset into training and testing sets\n",
        "X_train, X_test, y_train, y_test = train_test_split(X, y, test_size=0.25, random_state=42)\n",
        "\n",
        "# Create and train the model\n",
        "model = DecisionTreeClassifier()\n",
        "model.fit(X_train, y_train)\n",
        "\n",
        "# Get user input\n",
        "weight = float(input(\"Enter the weight of the fruit in grams: \"))\n",
        "color = int(input(\"Enter the color of the fruit (0=Green, 1=Red): \"))\n",
        "texture = int(input(\"Enter the texture of the fruit (0=Smooth, 1=Rough): \"))\n",
        "\n",
        "# Make a prediction\n",
        "predicted_fruit = model.predict([[weight, color, texture]])\n",
        "print(f\"The predicted type of fruit is: {predicted_fruit[0]}\")"
      ],
      "metadata": {
        "colab": {
          "base_uri": "https://localhost:8080/"
        },
        "id": "7f9jf7d_g-7y",
        "outputId": "169d9a08-9ef7-4982-bde1-3e5e6020245f"
      },
      "execution_count": null,
      "outputs": [
        {
          "output_type": "stream",
          "name": "stdout",
          "text": [
            "Enter the weight of the fruit in grams: 150\n",
            "Enter the color of the fruit (0=Green, 1=Red): 0\n",
            "Enter the texture of the fruit (0=Smooth, 1=Rough): 0\n",
            "The predicted type of fruit is: Apple\n"
          ]
        }
      ]
    }
  ]
}