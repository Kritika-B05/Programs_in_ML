{
  "nbformat": 4,
  "nbformat_minor": 0,
  "metadata": {
    "colab": {
      "provenance": [],
      "authorship_tag": "ABX9TyPGZMeBrzb+yEzdXGHNMecI"
    },
    "kernelspec": {
      "name": "python3",
      "display_name": "Python 3"
    },
    "language_info": {
      "name": "python"
    }
  },
  "cells": [
    {
      "cell_type": "code",
      "execution_count": 3,
      "metadata": {
        "colab": {
          "base_uri": "https://localhost:8080/"
        },
        "id": "0Br00bDevs84",
        "outputId": "bbeba1b9-23ce-452e-eb09-a6a83eb13231"
      },
      "outputs": [
        {
          "output_type": "stream",
          "name": "stdout",
          "text": [
            "Original Data:\n",
            "   Color Size  Price\n",
            "0    Red    S     10\n",
            "1   Blue    M     20\n",
            "2  Green    L     30\n",
            "3   Blue    M     20\n",
            "4    Red    S     10\n",
            "5  Green    L     30\n",
            "6  Green    L     30\n",
            "\n",
            "Processed Data:\n",
            "   Color  Size     Price\n",
            "0      2     2 -1.371989\n",
            "1      0     1 -0.171499\n",
            "2      1     0  1.028992\n",
            "3      0     1 -0.171499\n",
            "4      2     2 -1.371989\n",
            "5      1     0  1.028992\n",
            "6      1     0  1.028992\n"
          ]
        }
      ],
      "source": [
        "import pandas as pd\n",
        "from sklearn.preprocessing import LabelEncoder, StandardScaler\n",
        "# Sample data\n",
        "data = {\n",
        " 'Color': ['Red', 'Blue', 'Green', 'Blue', 'Red',\"Green\",\"Green\"],\n",
        " 'Size': ['S', 'M', 'L', 'M', 'S',\"L\",\"L\"],\n",
        " 'Price': [10, 20, 30, 20, 10, 30, 30]\n",
        "}\n",
        "df = pd.DataFrame(data)\n",
        "# Print original data\n",
        "print(\"Original Data:\")\n",
        "print(df)\n",
        "# Encode categorical variables\n",
        "label_encoder = LabelEncoder()\n",
        "df['Color'] = label_encoder.fit_transform(df['Color'])\n",
        "df['Size'] = label_encoder.fit_transform(df['Size'])\n",
        "# Scale numerical feature\n",
        "scaler = StandardScaler()\n",
        "df['Price'] = scaler.fit_transform(df[['Price']])\n",
        "# Print processed data\n",
        "print(\"\\nProcessed Data:\")\n",
        "print(df)"
      ]
    }
  ]
}