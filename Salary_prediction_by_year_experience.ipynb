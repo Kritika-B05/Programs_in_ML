{
  "nbformat": 4,
  "nbformat_minor": 0,
  "metadata": {
    "colab": {
      "provenance": [],
      "authorship_tag": "ABX9TyP0WUhHdoSeAnA+PgD4k6EM"
    },
    "kernelspec": {
      "name": "python3",
      "display_name": "Python 3"
    },
    "language_info": {
      "name": "python"
    }
  },
  "cells": [
    {
      "cell_type": "code",
      "source": [
        "import pandas as pd\n",
        "from sklearn.model_selection import train_test_split\n",
        "from sklearn.linear_model import LinearRegression\n",
        "\n",
        "# Sample dataset with some None values\n",
        "data = {\n",
        "    'YearsExperience': [1.1, 1.5, 2.0, 3.0, 4.0, None, 5.0, 6.0, 7.0, 8.0],\n",
        "    'Salary': [40000, 45000, 50000, 60000, 65000, None, 70000, 80000, 85000, 90000]\n",
        "}\n",
        "\n",
        "# Create DataFrame\n",
        "df = pd.DataFrame(data)\n",
        "\n",
        "# Fill None values with the mean of their column\n",
        "df = df.fillna(df.mean())\n",
        "\n",
        "# Define features and target variable\n",
        "X = df[['YearsExperience']]\n",
        "y = df['Salary']\n",
        "\n",
        "# Split the data into training and testing sets\n",
        "X_train, X_test, y_train, y_test = train_test_split(X, y, test_size=0.2)\n",
        "\n",
        "# Create and train the model\n",
        "model = LinearRegression()\n",
        "model.fit(X_train, y_train)\n",
        "\n",
        "# User input for prediction\n",
        "years_experience = float(input(\"Enter years of experience: \"))\n",
        "predicted_salary = model.predict([[years_experience]])\n",
        "\n",
        "print(\"Predicted Salary:\", predicted_salary[0])"
      ],
      "metadata": {
        "colab": {
          "base_uri": "https://localhost:8080/"
        },
        "id": "nvbKnfAWWPBd",
        "outputId": "3032385a-2ecf-4650-cdbb-4ae443ee0443"
      },
      "execution_count": 3,
      "outputs": [
        {
          "output_type": "stream",
          "name": "stdout",
          "text": [
            "Enter years of experience: 2.0\n",
            "Predicted Salary: 49363.39084714041\n"
          ]
        },
        {
          "output_type": "stream",
          "name": "stderr",
          "text": [
            "/usr/local/lib/python3.11/dist-packages/sklearn/utils/validation.py:2739: UserWarning: X does not have valid feature names, but LinearRegression was fitted with feature names\n",
            "  warnings.warn(\n"
          ]
        }
      ]
    },
    {
      "cell_type": "code",
      "source": [
        "import pandas as pd\n",
        "from sklearn.model_selection import train_test_split\n",
        "from sklearn.linear_model import LinearRegression\n",
        "from sklearn.metrics import mean_squared_error, r2_score\n",
        "\n",
        "# Sample data (YearsExperience and Salary)\n",
        "data = {\n",
        "    'YearsExperience': [1.1, 1.3, 1.5, 2.0, 2.2, 2.9, 3.0, 3.2, 3.7, 3.9,\n",
        "                        4.0, 4.2, 4.5, 4.9, 5.1, 5.3, 5.4, 5.9, 6.0, 6.2],\n",
        "    'Salary': [40000, 42000, 43000, 45000, 46000, 48000, 49000, 50000, 52000, 54000,\n",
        "               55000, 56000, 58000, 60000, 62000, 63000, 65000, 67000, 68000, 70000]\n",
        "}\n",
        "\n",
        "# Convert to DataFrame\n",
        "df = pd.DataFrame(data)\n",
        "\n",
        "# Define features and target variable\n",
        "X = df[['YearsExperience']]\n",
        "y = df['Salary']\n",
        "\n",
        "# Split the dataset into training and testing sets\n",
        "X_train, X_test, y_train, y_test = train_test_split(X, y, test_size=0.2, random_state=42)\n",
        "\n",
        "# Initialize and train the Linear Regression model\n",
        "model = LinearRegression()\n",
        "model.fit(X_train, y_train)\n",
        "\n",
        "# Make predictions\n",
        "y_pred = model.predict(X_test)\n",
        "\n",
        "# Evaluate the model\n",
        "print(f\"Coefficients: {model.coef_}\")\n",
        "print(f\"Intercept: {model.intercept_}\")\n",
        "print(f\"Mean Squared Error: {mean_squared_error(y_test, y_pred):.2f}\")\n",
        "print(f\"R^2 Score: {r2_score(y_test, y_pred):.2f}\")"
      ],
      "metadata": {
        "colab": {
          "base_uri": "https://localhost:8080/"
        },
        "id": "BdITcscUXLUU",
        "outputId": "9a528e02-d508-4e97-fbe8-5ff588789092"
      },
      "execution_count": 4,
      "outputs": [
        {
          "output_type": "stream",
          "name": "stdout",
          "text": [
            "Coefficients: [5837.49018276]\n",
            "Intercept: 32186.835346309774\n",
            "Mean Squared Error: 1759914.00\n",
            "R^2 Score: 0.99\n"
          ]
        }
      ]
    }
  ]
}